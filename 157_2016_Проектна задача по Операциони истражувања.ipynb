{
 "cells": [
  {
   "cell_type": "markdown",
   "metadata": {},
   "source": [
    "# Проектна задача по предметот Операциони истражувања\n",
    "\n",
    "## Благој Христов 157/2016\n",
    "\n",
    "\n",
    "## Нелинеарно програмирање во *Python* - решение на два примери користејќи ја библиотеката *SciPy*"
   ]
  },
  {
   "attachments": {
    "pr1.jpg": {
     "image/jpeg": "[encoded data removed]"
    }
   },
   "cell_type": "markdown",
   "metadata": {},
   "source": [
    "### Прв пример - Поставување на парапет\n",
    "\n",
    "Првиот пример се однесува на проблем на поставување парапет (ограда) на правоаголна површина.\n",
    "\n",
    "Во внатрешноста на површината постои празен правоаголен простор со големина од $180m^{2}$. Задачата е да се најде најголемата можна оградена површина околу празниот простор, така што широчината на патеката за пешачење да е еднаква од сите страни, а да се искористат максимално $250m$ ограда.\n",
    "\n",
    "Графички проблемот е претставен на следната слика:\n",
    "\n",
    "![pr1.jpg](attachment:pr1.jpg)\n",
    "\n",
    "Од описот на проблемот следува дека како одлучувачки променливи може да се земат страните на правоаголната површина која што треба да се огради, односно:\n",
    "\n",
    "$X_{1}$ - должина на страната на правоаголната површина паралелна на кратката страна на празниот простор (10m), во единица мерка метри.\n",
    "<br>\n",
    "$X_{2}$ - должина на страната на правоаголната површина паралелна на долгата страна на празниот простор (18m), во единица мерка метри.\n",
    "\n",
    "Според главната цел на проблемот, што гласи дека треба да се најде најголемата површина која што може да се огради (без притоа да се нарушат ограничувањата), функцијата на цена на може да се претстави во следниот облик:\n",
    "\n",
    "$max f = X_{1}X_{2} - 180$, каде $X_{1}X_{2}$ е површината на оградениот правоаголник, додека со $180$ е претставена површината на внатрешниот празен простор.\n",
    "\n",
    "Ограничувањата на проблемот може да се претстават со следните равенки:\n",
    "\n",
    "$\\dfrac{(X_{1} - 10)}{2} = \\dfrac{(X_{2} - 18)}{2}$ - широчината на патеката за пешачење треба да биде еднаква од сите страни.\n",
    "\n",
    "$2\\cdot(X_{1} + X_{2}) + 2\\cdot(18 + 10) \\leq 250$ - најмногу може да се искористи $250m$ ограда.\n",
    "\n",
    "$X_{1}, X_{2} \\geq 0$ - одлучувачките променливи мора да бидат позитивни или еднакви на нула.\n",
    "\n",
    "По математичко средување на равенствата, се добива канонската форма на проблемот:\n",
    "\n",
    "<center>\n",
    "    <br>\n",
    "    $max f = X_{1}X_{2} - 180$\n",
    "    <br><br>\n",
    "    $0.5X_{1} - 0.5X_{2} + 4 \\leq 0$\n",
    "    <br>\n",
    "    $-0.5X_{1} + 0.5X_{2} - 4 \\leq 0$\n",
    "    <br>\n",
    "    $2X_{1} + 2X_{2} + 56 - 250 \\leq 0$\n",
    "</center>\n",
    "\n",
    "Со користење на овие равенства и со помош на функцијата *basinhopping* од *optimize* блокот на *SciPy* библиотеката, може со *Python* да се најде решението на овој проблем на оптимизација.\n",
    "\n",
    "*Basinhopping* алгоритамот се користи за наоѓање на глобалниот минимум на одредена функција на тој начин што комбинира алгоритам за глобално чекорење со алгоритам за одредување на локалниот минимум на секој чекор. Функцијата *minimize* од истата библиотека во некои одредени случаи ќе даде локален минимум како решение, а за разлика од неа *basinhopping* алгоритамот гарантира поголема сигурност за пронаоѓање на глобалниот минимум на функцијата која се оптимизира.\n",
    "\n",
    "Бидејќи алгоритамот кој што се користи врши минимизација на функција, потребно е проблемот да го запишеме во подруг облик, односно максимизирањето на функцијата на цена да премине во минимизирање, така што финалниот облик на проблемот е следниот:\n",
    "\n",
    "<center>\n",
    "    <br>\n",
    "    $min f = -X_{1}X_{2} + 180$\n",
    "    <br><br>\n",
    "    $0.5X_{1} - 0.5X_{2} + 4 \\leq 0$\n",
    "    <br>\n",
    "    $-0.5X_{1} + 0.5X_{2} - 4 \\leq 0$\n",
    "    <br>\n",
    "    $2X_{1} + 2X_{2} + 56 - 250 \\leq 0$\n",
    "</center>"
   ]
  },
  {
   "cell_type": "code",
   "execution_count": 1,
   "metadata": {},
   "outputs": [],
   "source": [
    "import numpy as np\n",
    "from scipy.optimize import basinhopping, NonlinearConstraint"
   ]
  },
  {
   "cell_type": "code",
   "execution_count": 2,
   "metadata": {},
   "outputs": [],
   "source": [
    "def solve_nlp(dcs_vars, cst_func, bnds, cons):\n",
    "    \n",
    "    # поставување на параметри на алгоритамот за минимизација\n",
    "    minimizer_args={'method': 'SLSQP', 'bounds': bnds, 'constraints': cons}\n",
    "    \n",
    "    # решавање на проблемот\n",
    "    solution = basinhopping(cst_func, dcs_vars, niter=100, minimizer_kwargs=minimizer_args, seed=157)\n",
    "\n",
    "    # добивање на пресметаните одлучувачки променливи\n",
    "    x = solution.x\n",
    "\n",
    "    # добивање на вредноста на функцијата на цена\n",
    "    cf_value = cst_func(x)\n",
    "    \n",
    "    return x, cf_value"
   ]
  },
  {
   "cell_type": "code",
   "execution_count": 3,
   "metadata": {},
   "outputs": [
    {
     "name": "stdout",
     "output_type": "stream",
     "text": [
      "Оградената површина изнесува 2156.25 m², а ширината на патеката за пешачење е 17.25 m.\n",
      "\n",
      "Одлучувачки променливи:\n",
      "X₁ = 44.50 m\n",
      "X₂ = 52.50 m\n"
     ]
    }
   ],
   "source": [
    "# декларирање функција на цена\n",
    "def cost_function(x):\n",
    "    return -(x[0] * x[1] - 180)\n",
    "\n",
    "\n",
    "# декларирање на првото ограничување\n",
    "def constraint_1(x):\n",
    "    return (0.5 * x[0] - 0.5 * x[1] + 4)\n",
    "\n",
    "\n",
    "# декларирање на второто ограничување\n",
    "def constraint_2(x):\n",
    "    return (-0.5 * x[0] + 0.5 * x[1] - 4)\n",
    "\n",
    "\n",
    "# декларирање на третото ограничување\n",
    "def constraint_3(x):\n",
    "    return (2 * x[0] + 2 * x[1] + 56 - 250)\n",
    "\n",
    "\n",
    "# декларирање на одлучувачки променливи\n",
    "var = np.zeros(2)\n",
    "\n",
    "# поставување на ограничувања на променливите\n",
    "bounds = ((0, np.inf), (0, np.inf))\n",
    "\n",
    "# поставување на ограничувања на проблемот\n",
    "cons_1 = NonlinearConstraint(constraint_1, lb=-np.inf, ub=0.0)\n",
    "cons_2 = NonlinearConstraint(constraint_2, lb=-np.inf, ub=0.0)\n",
    "cons_3 = NonlinearConstraint(constraint_3, lb=-np.inf, ub=0.0)\n",
    "constraints = ([cons_1,cons_2, cons_3])\n",
    "\n",
    "decision_vars, cost_function_value = solve_nlp(dcs_vars=var, cst_func=cost_function, bnds=bounds, cons=constraints)\n",
    "\n",
    "# добивање на ширината на патеката за пешачење\n",
    "walkway_width = (decision_vars[0] - 10) / 2\n",
    "\n",
    "# принтање на вредноста на функцијата на цена\n",
    "print('Оградената површина изнесува {:.2f} m\\u00b2, а ширината на патеката за пешачење е {:.2f} m.\\n'.format(-cost_function_value, walkway_width))\n",
    "\n",
    "# принтање на вредноста на одлучувачките променливи\n",
    "print('Одлучувачки променливи:')\n",
    "print('X\\N{SUBSCRIPT ONE} = {:.2f} m'.format(decision_vars[0]))\n",
    "print('X\\N{SUBSCRIPT TWO} = {:.2f} m'.format(decision_vars[1]))"
   ]
  },
  {
   "cell_type": "markdown",
   "metadata": {},
   "source": [
    "### Анализа на чувствителност\n",
    "\n",
    "Дополнително за конкретниот проблем, може да се направи и анализа на чувствителност.\n",
    "\n",
    "Единствената примена каде би имала смисла оваа постапка е во третото ограничување, односно до колку метри може да се намали дозволената должина на оградата:"
   ]
  },
  {
   "cell_type": "code",
   "execution_count": 4,
   "metadata": {},
   "outputs": [
    {
     "name": "stdout",
     "output_type": "stream",
     "text": [
      "Доколку се промени дозволената должина на ограда, основните променливи се следните: {x2: 52.5 - 0.25*Δ, x1: 44.5 - 0.25*Δ}\n",
      "\n",
      "Промената Δ која се појавува во ограничувањето мора да го задоволи следниот услов: Δ <= 178.0\n"
     ]
    }
   ],
   "source": [
    "import sympy as sym\n",
    "from sympy.solvers.inequalities import reduce_rational_inequalities\n",
    "\n",
    "d = sym.Symbol('\\u0394', real='True')\n",
    "x1 = sym.Symbol('x1', real='True')\n",
    "x2 = sym.Symbol('x2', real='True')\n",
    "\n",
    "solution_constraint_3 = sym.solve((0.5 * x1 - 0.5 * x2 + 4,\n",
    "                                  -0.5 * x1 + 0.5 * x2 - 4,\n",
    "                                   2 * x1 + 2 * x2 + 56 - 250 + d), (x1, x2, d))\n",
    "\n",
    "print('Доколку се промени дозволената должина на ограда, основните променливи се следните:', solution_constraint_3)\n",
    "\n",
    "constraint_3_range = reduce_rational_inequalities([[solution_constraint_3[x1] >= 0, solution_constraint_3[x2] >= 0]], d)\n",
    "\n",
    "print('\\nПромената \\u0394 која се појавува во ограничувањето мора да го задоволи следниот услов:', constraint_3_range)"
   ]
  },
  {
   "cell_type": "markdown",
   "metadata": {},
   "source": [
    "Според добиените резултати, должината на оградата би можела да се намали до $250 - \\Delta = 72m$\n",
    "\n",
    "Доколку се промени ограничувањето според оваа величина, се добива следното решение на проблемот:"
   ]
  },
  {
   "cell_type": "code",
   "execution_count": 5,
   "metadata": {},
   "outputs": [
    {
     "name": "stdout",
     "output_type": "stream",
     "text": [
      "Оградената површина изнесува -180.00 m², а ширината на патеката за пешачење е -5.00 m.\n",
      "\n",
      "Одлучувачки променливи:\n",
      "X₁ = 0.00 m\n",
      "X₂ = 8.00 m\n"
     ]
    }
   ],
   "source": [
    "# декларирање функција на цена\n",
    "def cost_function(x):\n",
    "    return -(x[0] * x[1] - 180)\n",
    "\n",
    "\n",
    "# декларирање на првото ограничување\n",
    "def constraint_1(x):\n",
    "    return 0.5 * x[0] - 0.5 * x[1] + 4\n",
    "\n",
    "\n",
    "# декларирање на второто ограничување\n",
    "def constraint_2(x):\n",
    "    return -0.5 * x[0] + 0.5 * x[1] - 4\n",
    "\n",
    "\n",
    "# декларирање на третото ограничување\n",
    "def constraint_3(x):\n",
    "    return 2 * x[0] + 2 * x[1] + 56 - 72\n",
    "\n",
    "\n",
    "# декларирање на одлучувачки променливи\n",
    "var = np.zeros(2)\n",
    "\n",
    "# поставување на ограничувања на променливите\n",
    "bounds = ((0, np.inf), (0, np.inf))\n",
    "\n",
    "# поставување на ограничувања на проблемот\n",
    "cons_1 = NonlinearConstraint(constraint_1, lb=-np.inf, ub=0)\n",
    "cons_2 = NonlinearConstraint(constraint_2, lb=-np.inf, ub=0)\n",
    "cons_3 = NonlinearConstraint(constraint_3, lb=-np.inf, ub=0)\n",
    "constraints = ([cons_1,cons_2, cons_3])\n",
    "\n",
    "decision_vars, cost_function_value = solve_nlp(dcs_vars=var, cst_func=cost_function, bnds=bounds, cons=constraints)\n",
    "\n",
    "# добивање на ширината на патеката за пешачење\n",
    "walkway_width = (decision_vars[0] - 10) / 2\n",
    "\n",
    "# принтање на вредноста на функцијата на цена\n",
    "print('Оградената површина изнесува {:.2f} m\\u00b2, а ширината на патеката за пешачење е {:.2f} m.\\n'.format(-cost_function_value, walkway_width))\n",
    "\n",
    "# принтање на вредноста на одлучувачките променливи\n",
    "print('Одлучувачки променливи:')\n",
    "print('X\\N{SUBSCRIPT ONE} = {:.2f} m'.format(decision_vars[0]))\n",
    "print('X\\N{SUBSCRIPT TWO} = {:.2f} m'.format(decision_vars[1]))"
   ]
  },
  {
   "cell_type": "markdown",
   "metadata": {},
   "source": [
    "Може да се забележи дека, како што покажа и анализата на чувствителност, ова е минимално што може да се намали дозволената должина на оградата, бидејќи одлучувачката променлива $X_{1}$ добива вредност $0m$.\n",
    "\n",
    "Но, исто така може да се забележи дека добиената површина како и ширината на патеката за пешачење добива негативна вредност, што е невозможно. Ова е поради тоа што должините на страните на надворешниот правоаголник, односно одлучувачките променливи, се помали од должините на внатрешниот празен простор.\n",
    "\n",
    "За да се добие вистинската минимална дозволена должина на оградата, потребно е дополнително да се вметне и ограничувањето дека површината на надворешниот правоаголник мора да е поголема од површината на внатрешниот празен простор:"
   ]
  },
  {
   "cell_type": "code",
   "execution_count": 6,
   "metadata": {},
   "outputs": [
    {
     "name": "stdout",
     "output_type": "stream",
     "text": [
      "Доколку се промени дозволената должина на ограда, основните променливи се следните: [(-18.0000000000000, -10.0000000000000, 250.000000000000), (10.0000000000000, 18.0000000000000, 138.000000000000)]\n"
     ]
    }
   ],
   "source": [
    "import sympy as sym\n",
    "from sympy.solvers.inequalities import reduce_rational_inequalities\n",
    "\n",
    "d = sym.Symbol('\\u0394', real='True')\n",
    "x1 = sym.Symbol('x1', real='True')\n",
    "x2 = sym.Symbol('x2', real='True')\n",
    "\n",
    "solution_constraint_3 = sym.solve((0.5 * x1 - 0.5 * x2 + 4,\n",
    "                                  -0.5 * x1 + 0.5 * x2 - 4,\n",
    "                                   x1 * x2 - 180,\n",
    "                                   2 * x1 + 2 * x2 + 56 - 250 + d), (x1, x2, d))\n",
    "\n",
    "print('Доколку се промени дозволената должина на ограда, основните променливи се следните:', solution_constraint_3)"
   ]
  },
  {
   "cell_type": "markdown",
   "metadata": {},
   "source": [
    "Според добиените резултати постојат само две можни решенија, а тоа се:\n",
    "\n",
    "$X_{1} = -18m$\n",
    "<br>\n",
    "$X_{2} = -10m$\n",
    "<br>\n",
    "$\\Delta = 250$\n",
    "\n",
    "Ова решение е невозможно бидејќи $X_{1}, X_{2} \\geq 0$\n",
    "\n",
    "$X_{1} = 10m$\n",
    "<br>\n",
    "$X_{2} = 18m$\n",
    "<br>\n",
    "$\\Delta = 138$\n",
    "\n",
    "Според ова решение може да се воочи дека $X_{1}$ и $X_{2}$ се со иста должина како и страните на внатрешниот празен простор, што значи дека навистина е минималната дозволена должина на оградата, која би изнесувала $250 - \\Delta = 112m$, иако не е реалистично решение бидејќи во овој случај површината на патеката за пешачење би била $0m$. Следствено на ова, може да се заклучи дека $\\Delta \\leq 138$, односно најмалку може да се употреби $112m$ ограда."
   ]
  },
  {
   "cell_type": "markdown",
   "metadata": {},
   "source": [
    "***"
   ]
  },
  {
   "cell_type": "markdown",
   "metadata": {},
   "source": [
    "### Втор пример - Планирање на производство во фабрика за пијалоци\n",
    "\n",
    "Вториот пример во оваа проектна задача се однесува на проблем со планирање на производството во фабрика за пијалоци.\n",
    "\n",
    "Фабриката произведува два типа на пијалоци базирани на истиот сируп, *Coli* и *Pepsa*, на својата производствена линија *S1*.\n",
    "\n",
    "- По процесирањето, секој хектолитар на сируп произведува **40** единици со шишиња од 1.5l од пијалокот *Coli* и **20** единици со шишиња од 1.5l од пијалокот *Pepsa*. \n",
    "- Секој хектолитар на сируп ја кошта фирмата по **$150** за набавка и процесирање.\n",
    "- Производствената линија за пакување има капацитет за производство на **7,100** единици од 1.5l шишиња на секој час.\n",
    "- Фирмата работи **5 дена** во неделата по **8 часа** на ден.\n",
    "- Според неделната побарувачка, количеството на произведени единици од пијалокот *Pepsa* треба да биде барем половина од количеството на произведени единици од пијалокот *Coli*.\n",
    "\n",
    "Целта на решавање на овој проблем е да се добие оптималното дневно количество на произведени единици за секој од пијалоците, така што фирмата ќе го максимизира својот профит.\n",
    "\n",
    "Од описот на проблемот следува дека како одлучувачки променливи може да се земе бројот на произведени единици од поединечните пијалоци, односно:\n",
    "\n",
    "$X_{1}$ - број на произведени единици од пијалокот *Coli*.\n",
    "<br>\n",
    "$X_{2}$ - број на произведени единици од пијалокот *Pepsa*.\n",
    "\n",
    "Функцијата на цена е дадена во самиот проблем, односно таа претставува проценка на дневниот приход кој што го очекува фирмата минус потребните трошоци за набавување и процесирање на сирупот: \n",
    "\n",
    "\n",
    "<center>\n",
    "<br>\n",
    "$max f = 49000X_{1} - X_{1}^2 + 30X_{2} - 2X_{2}^2 - 150\\cdot(40X_{1} + 20X_{2})$\n",
    "</center>\n",
    "\n",
    "Ограничувањата на проблемот може да се претстават со следните равенки:\n",
    "\n",
    "$X_{1} + X_{2} \\leq 56800$ - вкупното количество на произведени единици мора да биде реално остварливо (7,100 единици на час, 8 часа на ден).\n",
    "\n",
    "$X_{2} \\geq \\dfrac{X_{1}}{2}$ - количеството на произведени единици од пијалокот *Pepsa* треба да биде барем половина од количеството на единици од пијалокот *Coli*.\n",
    "\n",
    "$X_{1}, X_{2} \\geq 0$ - одлучувачките променливи мора да бидат позитивни или еднакви на нула.\n",
    "\n",
    "По математичко средување на равенствата, се добива канонската форма на проблемот:\n",
    "\n",
    "<center>\n",
    "<br>\n",
    "$max f = 43000X_{1} - X_{1}^2 - 2970X_{2} - 2X_{2}^2$\n",
    "<br><br>\n",
    "$X_{1} + X_{2} - 56800 \\leq 0$\n",
    "<br>\n",
    "$X_{1} - 2X_{2} \\leq 0$\n",
    "</center>\n",
    "\n",
    "Бидејќи алгоритамот кој што се користи врши минимизација на функција, потребно е проблемот да го запишеме во подруг облик, односно максимизирањето на функцијата на цена да премине во минимизирање, така што финалниот облик на проблемот е следниот:\n",
    "\n",
    "<center>\n",
    "<br>\n",
    "$min f = -43000X_{1} + X_{1}^2 + 2970X_{2} + 2X_{2}^2$\n",
    "<br><br>\n",
    "$X_{1} + X_{2} - 56800 \\leq 0$\n",
    "<br>\n",
    "$X_{1} - 2X_{2} \\leq 0$\n",
    "</center>\n",
    "\n",
    "За решавање на проблемот повторно ја користиме функцијата *basinhopping*:"
   ]
  },
  {
   "cell_type": "code",
   "execution_count": 106,
   "metadata": {},
   "outputs": [
    {
     "name": "stdout",
     "output_type": "stream",
     "text": [
      "Остварениот профит на фирмата ќе изнесува: 287514496.15\n",
      "\n",
      "Одлучувачки променливи:\n",
      "X₁ = 13841.84 единици\n",
      "X₂ = 6912.26 единици\n"
     ]
    }
   ],
   "source": [
    "# декларирање функција на цена\n",
    "def cost_function(x):\n",
    "    return -43000*x[0] + x[0]**2 + 2970*x[1] + 2*x[1]**2\n",
    "\n",
    "\n",
    "# декларирање на првото ограничување\n",
    "def constraint_1(x):\n",
    "    return x[0] + x[1] - 56800\n",
    "\n",
    "\n",
    "# декларирање на второто ограничување\n",
    "def constraint_2(x):\n",
    "    return x[0] - 2 * x[1]\n",
    "\n",
    "\n",
    "# декларирање на одлучувачки променливи\n",
    "var = np.zeros(2)\n",
    "\n",
    "# поставување на ограничувања на променливите\n",
    "bounds = ((0, np.inf), (0, np.inf))\n",
    "\n",
    "# поставување на ограничувања на проблемот\n",
    "cons_1 = NonlinearConstraint(constraint_1, lb=-np.inf, ub=0)\n",
    "cons_2 = NonlinearConstraint(constraint_2, lb=-np.inf, ub=0)\n",
    "constraints = ([cons_1, cons_2])\n",
    "\n",
    "decision_vars, cost_function_value = solve_nlp(dcs_vars=var, cst_func=cost_function, bnds=bounds, cons=constraints)\n",
    "\n",
    "# принтање на вредноста на функцијата на цена\n",
    "print('Остварениот профит на фирмата ќе изнесува: {:.2f}\\n'.format(-cost_function_value))\n",
    "\n",
    "# принтање на вредноста на одлучувачките променливи\n",
    "print('Одлучувачки променливи:')\n",
    "print('X\\N{SUBSCRIPT ONE} = {:.2f} единици'.format(decision_vars[0]))\n",
    "print('X\\N{SUBSCRIPT TWO} = {:.2f} единици'.format(decision_vars[1]))"
   ]
  },
  {
   "cell_type": "markdown",
   "metadata": {},
   "source": [
    "### Анализа на чувствителност\n",
    "\n",
    "За овој проблем, анализата на чувствителност ќе се изведе со користење на ***Kuhn-Tucker*** условите. \n",
    "\n",
    "Преку оваа постапка може целосно да се реши проблемот, без користење на апроксимирачки алгоритми што се користеа до сега. Покрај тоа, на овој начин се добиваат и дополнителни информации за проблемот кои што се корисни за анализата на чувствителност.\n",
    "\n",
    "Постапката е базирана на користење на Лагранжова функција и поставување на т.н. *Kuhn-Tucker*-ови услови кои мораат да бидат исполнети. На крај решавањето се сведува на решавање на систем равенки, што не е тешко да се изведе."
   ]
  },
  {
   "cell_type": "code",
   "execution_count": 107,
   "metadata": {
    "scrolled": false
   },
   "outputs": [],
   "source": [
    "import sympy as sym\n",
    "\n",
    "l1 = sym.Symbol('\\u03BB_1', real='True')\n",
    "l2 = sym.Symbol('\\u03BB_2', real='True')\n",
    "x1 = sym.Symbol('x1', real='True')\n",
    "x2 = sym.Symbol('x2', real='True')\n",
    "\n",
    "# декларирање на Лагранжовата функција, што претставува збир од функцијата на цена со секој од условите помножени \n",
    "# со соодветен Лагранжов мултипликатор\n",
    "L = -43000*x1 + x1**2 + 2970*x2 + 2*x2**2 + l1*(x1 + x2 - 56800) + l2*(x1 - 2 * x2)\n",
    "\n",
    "# услови на Kuhn-Tucker\n",
    "\n",
    "# услов на градиент\n",
    "dLx1 = L.diff(x1)\n",
    "dLx2 = L.diff(x2)\n",
    "\n",
    "# услов на изводливост\n",
    "f1 = x1 + x2 - 56800\n",
    "f2 = x1 - 2*x2\n",
    "\n",
    "# услов на ортогоналност\n",
    "o1 = l1*(x1 + x2 - 56800)\n",
    "o2 = l2*(x1 - 2*x2)"
   ]
  },
  {
   "cell_type": "markdown",
   "metadata": {},
   "source": [
    "За да се реши проблемот, треба да се претпостават вредностите на Лагранжовите мултипликатори:\n",
    "\n",
    "**1)** $\\lambda_1 = \\lambda_2 = 0$\n",
    "\n",
    "Од условот на градиент следува:"
   ]
  },
  {
   "cell_type": "code",
   "execution_count": 108,
   "metadata": {},
   "outputs": [
    {
     "name": "stdout",
     "output_type": "stream",
     "text": [
      "x1 = 21500.0\n",
      "x2 = -742.5\n"
     ]
    }
   ],
   "source": [
    "var_1 = sym.solve(dLx1.subs({l1: 0, l2: 0}), x1)  \n",
    "var_2 = sym.solve(dLx2.subs({l1: 0, l2: 0}), x2)\n",
    "\n",
    "print('x1 = {}\\nx2 = {}'.format(float(var_1[0]), float(var_2[0])))"
   ]
  },
  {
   "cell_type": "markdown",
   "metadata": {},
   "source": [
    "Од овие вредности може да се забележи дека променливата $X_{1}$ е во ред, но променливата $X_{2}$ добива негативна вредност, што не е дозволено.\n",
    "\n",
    "Поради ова, наредно ќе се претпостават следните вредности за Лагранжовите мултипликатори:\n",
    "\n",
    "**2)** $\\lambda_1 = 0; \\lambda_2 \\neq 0$\n",
    "\n",
    "Од условот на градиент следува:"
   ]
  },
  {
   "cell_type": "code",
   "execution_count": 109,
   "metadata": {},
   "outputs": [
    {
     "name": "stdout",
     "output_type": "stream",
     "text": [
      "x1 = 21500 - λ_2/2\n",
      "x2 = λ_2/2 - 1485/2\n"
     ]
    }
   ],
   "source": [
    "eq_1 = sym.solve(dLx1.subs(l1, 0), x1)[0]\n",
    "eq_2 = sym.solve(dLx2.subs(l1, 0), x2)[0]\n",
    "\n",
    "print('x1 = {}\\nx2 = {}'.format(eq_1, eq_2))"
   ]
  },
  {
   "cell_type": "markdown",
   "metadata": {},
   "source": [
    "Може да се воочи дека сега како резултат на замената се добиваат две равенки со три непознати. \n",
    "\n",
    "За да може да се најдат решенијата на равенките, потребно е да се добие уште една равенка која ги содржи двете променливи. Тоа може да се оствари со заменување на претпоставените вредности за Лагранжовите мултипликатори во останатите услови на *Kuhn-Tucker*.\n",
    "\n",
    "Бидејќи $\\lambda_{1} = 0$, единствена равенка која што може да се искористи е вториот ортогонален услов, односно:"
   ]
  },
  {
   "cell_type": "code",
   "execution_count": 110,
   "metadata": {},
   "outputs": [
    {
     "name": "stdout",
     "output_type": "stream",
     "text": [
      "[(41515/3, 41515/6, 45970/3), (21500, -1485/2, 0)]\n"
     ]
    }
   ],
   "source": [
    "eq_3 = o2\n",
    "\n",
    "solution = sym.solve((eq_1 - x1, eq_2 - x2, eq_3 - 0), (x1, x2, l2))\n",
    "\n",
    "print(solution)"
   ]
  },
  {
   "cell_type": "markdown",
   "metadata": {},
   "source": [
    "Бидејќи во едно од можните решенија променливата $X_{2}$ има негативна вредност, решението се зема за невозможно, па вистинското решение на проблемот е:"
   ]
  },
  {
   "cell_type": "code",
   "execution_count": 111,
   "metadata": {},
   "outputs": [
    {
     "name": "stdout",
     "output_type": "stream",
     "text": [
      "X₁ = 13838.333333333334\n",
      "X₂ = 6919.166666666667\n",
      "λ₂ = 15323.333333333334\n"
     ]
    }
   ],
   "source": [
    "x1_s, x2_s, l2_s = solution[0]\n",
    "\n",
    "print('X\\N{SUBSCRIPT ONE} = {}\\nX\\N{SUBSCRIPT TWO} = {}\\n\\u03BB\\N{SUBSCRIPT TWO} = {}'.format(float(x1_s), float(x2_s), float(l2_s)))"
   ]
  },
  {
   "cell_type": "markdown",
   "metadata": {},
   "source": [
    "Како што може да се забележи, резултатите се скоро еднакви со оние добиени со апроксимирачко минимизирање на функцијата на цена користејќи го *basinhopping* алгоритамот.\n",
    "\n",
    "За разлика од претходниот метод, овде имаме и податок за Лагранжовите мултипликатори $\\lambda_{1}$ и $\\lambda_{2}$, што не претставуваат ништо друго туку скриените цени или *shadow prices* на ограничувањата во проблемот.\n",
    "\n",
    "Според тоа, може да заклучиме дека бидејќи $\\lambda_{1} = 0$, фирмата нема да има корист од додавање на повеќе работни часови во денот, бидејќи не се искористени ни тие што веќе ги има на располагање. Тоа може да се потврди и со едноставна проверка:\n",
    "\n",
    "<center>\n",
    "    <br>\n",
    "    $X_{1} + X_{2} = 13838 + 6919 = 20757 < 56800$\n",
    "</center>\n",
    "\n",
    "Од $\\lambda_{2} = 15323$ може да се увиди дека за секоја дополнителна произведена единица од пијалокот *Coli*, дневниот профит би се зголемил за ***$15,323***."
   ]
  }
 ],
 "metadata": {
  "kernelspec": {
   "display_name": "Python 3",
   "language": "python",
   "name": "python3"
  },
  "language_info": {
   "codemirror_mode": {
    "name": "ipython",
    "version": 3
   },
   "file_extension": ".py",
   "mimetype": "text/x-python",
   "name": "python",
   "nbconvert_exporter": "python",
   "pygments_lexer": "ipython3",
   "version": "3.7.7"
  }
 },
 "nbformat": 4,
 "nbformat_minor": 4
}
